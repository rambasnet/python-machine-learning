{
 "cells": [
  {
   "cell_type": "markdown",
   "metadata": {},
   "source": [
    "# Table of Contents\n",
    "\n",
    "- **1. [Tools & Python Review](Tools-Python-Review.ipynb)**\n",
    "- **2. [ML Intro](./MLIntro.ipynb)**\n",
    "- **3. [NumPy Intro](./NumPy-Intro.ipynb)**\n",
    "- **4. [Pandas Intro](./Pandas-Intro.ipynb)**\n",
    "- **5. [Data Visualization](./Data-Visualization.ipynb)**\n",
    "- **6. [Classification with Scikit-Learn](./Classification.ipynb)**\n",
    "- **7. [Model Comparison and Selection](./ModelSelection.ipynb)**\n",
    "- **8. [Model Explainability](./ModelExplainability.ipynb)**\n",
    "- **9. [Feature Engineering](./FeatureEngineering.ipynb)**\n",
    "- **10. [Regression Analysis](./Regression.ipynb)**\n",
    "- **11. [Sentiment Analysis](./SentimentAnalysis.ipynb)**\n",
    "- **12. [Model Deployment](./ModelDeployment.ipynb)**\n",
    "- **13. [Artificial Neural Network](./ArtificialNeuralNetwork.ipynb)**"
   ]
  },
  {
   "cell_type": "code",
   "execution_count": null,
   "metadata": {},
   "outputs": [],
   "source": []
  }
 ],
 "metadata": {
  "kernelspec": {
   "display_name": "Python 3 (ipykernel)",
   "language": "python",
   "name": "python3"
  },
  "language_info": {
   "codemirror_mode": {
    "name": "ipython",
    "version": 3
   },
   "file_extension": ".py",
   "mimetype": "text/x-python",
   "name": "python",
   "nbconvert_exporter": "python",
   "pygments_lexer": "ipython3",
   "version": "3.10.8"
  },
  "vscode": {
   "interpreter": {
    "hash": "1a1af0ee75eeea9e2e1ee996c87e7a2b11a0bebd85af04bb136d915cefc0abce"
   }
  }
 },
 "nbformat": 4,
 "nbformat_minor": 4
}
