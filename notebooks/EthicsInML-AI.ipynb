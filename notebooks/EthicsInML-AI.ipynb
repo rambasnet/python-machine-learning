{
 "cells": [
  {
   "cell_type": "markdown",
   "id": "e4edd6b1",
   "metadata": {},
   "source": [
    "# Ethics in ML/AI \n",
    "\n",
    "## Ethics of AI: Challenges and Governance - https://www.youtube.com/watch?v=VqFqWIqOB1g\n",
    "\n",
    "\n",
    "## AI - Governance & Risk Management - https://www.youtube.com/watch?v=_PH5NQqlYQ8&t=387s"
   ]
  },
  {
   "cell_type": "code",
   "execution_count": null,
   "id": "38d0b3f0",
   "metadata": {},
   "outputs": [],
   "source": []
  }
 ],
 "metadata": {
  "kernelspec": {
   "display_name": "Python 3 (ipykernel)",
   "language": "python",
   "name": "python3"
  },
  "language_info": {
   "codemirror_mode": {
    "name": "ipython",
    "version": 3
   },
   "file_extension": ".py",
   "mimetype": "text/x-python",
   "name": "python",
   "nbconvert_exporter": "python",
   "pygments_lexer": "ipython3",
   "version": "3.10.8"
  }
 },
 "nbformat": 4,
 "nbformat_minor": 5
}
